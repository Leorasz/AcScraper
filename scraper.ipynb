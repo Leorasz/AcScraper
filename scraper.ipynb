{
 "cells": [
  {
   "cell_type": "code",
   "execution_count": 3,
   "metadata": {},
   "outputs": [
    {
     "name": "stdout",
     "output_type": "stream",
     "text": [
      "Requirement already satisfied: playwright in /Users/leo/anaconda3/lib/python3.12/site-packages (1.47.0)\n",
      "Requirement already satisfied: greenlet==3.0.3 in /Users/leo/anaconda3/lib/python3.12/site-packages (from playwright) (3.0.3)\n",
      "Requirement already satisfied: pyee==12.0.0 in /Users/leo/anaconda3/lib/python3.12/site-packages (from playwright) (12.0.0)\n",
      "Requirement already satisfied: typing-extensions in /Users/leo/anaconda3/lib/python3.12/site-packages (from pyee==12.0.0->playwright) (4.11.0)\n"
     ]
    }
   ],
   "source": [
    "!pip3 install playwright"
   ]
  },
  {
   "cell_type": "code",
   "execution_count": 4,
   "metadata": {},
   "outputs": [
    {
     "ename": "ModuleNotFoundError",
     "evalue": "No module named 'playwright.sync_api'; 'playwright' is not a package",
     "output_type": "error",
     "traceback": [
      "\u001b[0;31m---------------------------------------------------------------------------\u001b[0m",
      "\u001b[0;31mModuleNotFoundError\u001b[0m                       Traceback (most recent call last)",
      "Cell \u001b[0;32mIn[4], line 4\u001b[0m\n\u001b[1;32m      2\u001b[0m \u001b[38;5;28;01mimport\u001b[39;00m \u001b[38;5;21;01mrequests\u001b[39;00m\n\u001b[1;32m      3\u001b[0m \u001b[38;5;28;01mfrom\u001b[39;00m \u001b[38;5;21;01mbs4\u001b[39;00m \u001b[38;5;28;01mimport\u001b[39;00m BeautifulSoup\n\u001b[0;32m----> 4\u001b[0m \u001b[38;5;28;01mfrom\u001b[39;00m \u001b[38;5;21;01mplaywright\u001b[39;00m\u001b[38;5;21;01m.\u001b[39;00m\u001b[38;5;21;01msync_api\u001b[39;00m \u001b[38;5;28;01mimport\u001b[39;00m sync_playwright\n\u001b[1;32m      5\u001b[0m \u001b[38;5;28;01mimport\u001b[39;00m \u001b[38;5;21;01mthreading\u001b[39;00m\n",
      "File \u001b[0;32m~/python/AcScraper/playwright.py:1\u001b[0m\n\u001b[0;32m----> 1\u001b[0m \u001b[38;5;28;01mfrom\u001b[39;00m \u001b[38;5;21;01mplaywright\u001b[39;00m\u001b[38;5;21;01m.\u001b[39;00m\u001b[38;5;21;01msync_api\u001b[39;00m \u001b[38;5;28;01mimport\u001b[39;00m sync_playwright\n\u001b[1;32m      2\u001b[0m \u001b[38;5;28;01mimport\u001b[39;00m \u001b[38;5;21;01mthreading\u001b[39;00m\n\u001b[1;32m      4\u001b[0m \u001b[38;5;28;01mdef\u001b[39;00m \u001b[38;5;21mrun_playwright\u001b[39m():\n",
      "\u001b[0;31mModuleNotFoundError\u001b[0m: No module named 'playwright.sync_api'; 'playwright' is not a package"
     ]
    }
   ],
   "source": [
    "import json\n",
    "from bs4 import BeautifulSoup\n",
    "from playwright.sync_api import sync_playwright\n",
    "import threading"
   ]
  },
  {
   "cell_type": "code",
   "execution_count": 42,
   "metadata": {},
   "outputs": [],
   "source": [
    "import ollama\n",
    "\n",
    "def talk(system, prompt):\n",
    "    messages = [\n",
    "        {\n",
    "            'role': 'system',\n",
    "            'content': system\n",
    "        },\n",
    "        {\n",
    "            'role': 'user',\n",
    "            'content': prompt\n",
    "        }\n",
    "    ]\n",
    "\n",
    "    response = ollama.chat(model='llama3', messages=messages)\n",
    "\n",
    "    return response['message']['content']\n",
    "\n"
   ]
  },
  {
   "cell_type": "code",
   "execution_count": 46,
   "metadata": {},
   "outputs": [],
   "source": [
    "import os\n",
    "os.environ[\"PWDEBUG\"] = \"0\"\n",
    "os.environ[\"TOKENIZERS_PARALLELISM\"] = \"true\""
   ]
  },
  {
   "cell_type": "code",
   "execution_count": 43,
   "metadata": {},
   "outputs": [
    {
     "name": "stderr",
     "output_type": "stream",
     "text": [
      "/Users/leo/anaconda3/lib/python3.12/site-packages/transformers/tokenization_utils_base.py:1601: FutureWarning: `clean_up_tokenization_spaces` was not set. It will be set to `True` by default. This behavior will be depracted in transformers v4.45, and will be then set to `False` by default. For more details check this issue: https://github.com/huggingface/transformers/issues/31884\n",
      "  warnings.warn(\n"
     ]
    }
   ],
   "source": [
    "from sentence_transformers import SentenceTransformer\n",
    "import torch\n",
    "dev = \"mps\"\n",
    "\n",
    "model = SentenceTransformer('all-MiniLM-L6-v2')\n",
    "tens = torch.tensor(model.encode([\"Hello world\"])).to(dev)"
   ]
  },
  {
   "cell_type": "code",
   "execution_count": 44,
   "metadata": {},
   "outputs": [
    {
     "data": {
      "text/plain": [
       "' hello world'"
      ]
     },
     "execution_count": 44,
     "metadata": {},
     "output_type": "execute_result"
    }
   ],
   "source": [
    "import re\n",
    "\n",
    "stri = \"thioasdfpaoidfgsaefgsef RES: hello world\"\n",
    "\n",
    "def findRES(stri):\n",
    "    match = re.search(\"RES:(.*)\", stri)\n",
    "    payload = match.group(1)\n",
    "    return payload\n",
    "\n",
    "findRES(stri)"
   ]
  },
  {
   "cell_type": "code",
   "execution_count": 48,
   "metadata": {},
   "outputs": [],
   "source": [
    "system = \"You are an expert at extracting information from text data, what is given to you surrounded by ***. Always explain your reasoning, and then end your response with RES: and then your answer.\"\n",
    "def find_person(college, person, putter):\n",
    "    with sync_playwright() as p:\n",
    "        browser = p.chromium.launch(headless=False, slow_mo=50)\n",
    "        page = browser.new_page()\n",
    "        page.goto(\"https://www.google.com/\")\n",
    "        page.wait_for_load_state('load')\n",
    "        page.fill('#APjFqb', college + \" \" + person)\n",
    "        page.press('#APjFqb', 'Enter')\n",
    "\n",
    "        page.wait_for_selector('h3')\n",
    "        search_results = page.query_selector_all('h3')\n",
    "        titles = [result.inner_text() for result in search_results]\n",
    "        target = college + \"Office of \" + person\n",
    "        tens = torch.tensor(model.encode([target] + titles)).to(dev)\n",
    "        tens /= torch.norm(tens, dim=1, keepdim=True)\n",
    "        sims = tens[1:] @ tens[0]\n",
    "        best_pos = torch.argmax(sims).item()\n",
    "        search_results[best_pos].click()\n",
    "\n",
    "        page.wait_for_load_state('load')\n",
    "        page_content = page.content()        \n",
    "        browser.close()\n",
    "        soup = BeautifulSoup(page_content, 'html.parser')\n",
    "        text_data = soup.get_text()\n",
    "        prompt = f\"Use this data to find me the {person} of {college}: ***{text_data}***\"\n",
    "        raw_out = talk(system, prompt)\n",
    "        payload = findRES(raw_out)\n",
    "        print(payload)\n",
    "        # putter.append({\"College\":college,\"Position\":person,\"Name\":payload})\n",
    "\n"
   ]
  },
  {
   "cell_type": "code",
   "execution_count": 1,
   "metadata": {},
   "outputs": [
    {
     "ename": "NameError",
     "evalue": "name 'json' is not defined",
     "output_type": "error",
     "traceback": [
      "\u001b[0;31m---------------------------------------------------------------------------\u001b[0m",
      "\u001b[0;31mNameError\u001b[0m                                 Traceback (most recent call last)",
      "Cell \u001b[0;32mIn[1], line 2\u001b[0m\n\u001b[1;32m      1\u001b[0m \u001b[38;5;28;01mwith\u001b[39;00m \u001b[38;5;28mopen\u001b[39m(\u001b[38;5;124m\"\u001b[39m\u001b[38;5;124mname_wiki_link.json\u001b[39m\u001b[38;5;124m\"\u001b[39m, \u001b[38;5;124m\"\u001b[39m\u001b[38;5;124mr\u001b[39m\u001b[38;5;124m\"\u001b[39m) \u001b[38;5;28;01mas\u001b[39;00m file:\n\u001b[0;32m----> 2\u001b[0m     data \u001b[38;5;241m=\u001b[39m json\u001b[38;5;241m.\u001b[39mload(file)\n\u001b[1;32m      4\u001b[0m colleges \u001b[38;5;241m=\u001b[39m [i[\u001b[38;5;124m\"\u001b[39m\u001b[38;5;124mName\u001b[39m\u001b[38;5;124m\"\u001b[39m] \u001b[38;5;28;01mfor\u001b[39;00m i \u001b[38;5;129;01min\u001b[39;00m data]\n\u001b[1;32m      5\u001b[0m js \u001b[38;5;241m=\u001b[39m []\n",
      "\u001b[0;31mNameError\u001b[0m: name 'json' is not defined"
     ]
    }
   ],
   "source": [
    "with open(\"name_wiki_link.json\", \"r\") as file:\n",
    "    data = json.load(file)\n",
    "\n",
    "colleges = [i[\"Name\"] for i in data]\n",
    "js = []\n",
    "for college in [colleges[0]]:\n",
    "    thread = threading.Thread(target=find_person, args=(college, \"President\", js))\n",
    "    thread.start()\n",
    "    thread.join()\n",
    "    exit()\n",
    "with open(\"presidents.json\", \"w\") as file:\n",
    "    json.dump(js, file, indent=4)"
   ]
  }
 ],
 "metadata": {
  "kernelspec": {
   "display_name": "base",
   "language": "python",
   "name": "python3"
  },
  "language_info": {
   "codemirror_mode": {
    "name": "ipython",
    "version": 3
   },
   "file_extension": ".py",
   "mimetype": "text/x-python",
   "name": "python",
   "nbconvert_exporter": "python",
   "pygments_lexer": "ipython3",
   "version": "3.12.4"
  }
 },
 "nbformat": 4,
 "nbformat_minor": 2
}
